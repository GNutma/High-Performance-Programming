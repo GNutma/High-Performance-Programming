{
 "cells": [
  {
   "cell_type": "markdown",
   "execution_count": null,
   "metadata": {},
   "outputs": [],
   "source": [
    "# Opdracht 1.1: Complexiteit van sorteren"
   ]
  },
  {
   "cell_type": "code",
   "execution_count": 8,
   "metadata": {},
   "outputs": [],
   "source": [
    "import numpy as np\n",
    "import pandas as pd\n",
    "from typing import List\n",
    "import time\n"
   ]
  },
  {
   "cell_type": "markdown",
   "execution_count": null,
   "metadata": {},
   "outputs": [],
   "source": [
    "### Selection sort<br>\n",
    "Selection sort is een simpel, maar inefficient sorteeralgoritme. Als je een lijst probeert te sorteren in oplopende volgorde, moet het eerste element altijd het kleinste element zijn. In de eerste iteratie van selection sort selecteert het het kleinste element in de array en verwisselt deze met het eerste element van de array. De tweede iteratie selecteert het tweede kleinste item (deze is kleiner dan alle overige items in de array) en verwisselt deze met het tweede item van de array. Het algoritme gaat zo door tot het in de laatste iteratie het een-na-grootste element van de array met het item op de een-na-laatste plek van de array verwisselt.\n",
    "\n",
    "Hieronder Voorbeeld van document twee implementaties van selection sort in Python:"
   ]
  },
  {
   "cell_type": "code",
   "execution_count": 9,
   "metadata": {},
   "outputs": [],
   "source": [
    "def selection_sort(data: List[int]) -> None:\n",
    "    \"\"\"Sort an array using selection sort\"\"\"\n",
    "    # loop over len(data) -1 elements\n",
    "    for index1 in range(len(data)-1):\n",
    "        smallest = index1 # first index of remaining array\n",
    "\n",
    "        # loop to find index of smallest element\n",
    "        for index2 in range(index1 + 1, len(data)):\n",
    "            if data[index2] < data[smallest]:\n",
    "                smallest = index2\n",
    "\n",
    "        # swap smallest element into position\n",
    "        data[smallest], data[index1] = data[index1], data[smallest]\n",
    "\n",
    "\n",
    "def recursive_selection_sort(data: List[int]) -> None:\n",
    "    # Lists with less than one element are sorted\n",
    "    if len(data) <= 1:\n",
    "        return data\n",
    "    else:\n",
    "        smallest = min(data)    # find the smallest element in the list\n",
    "        data.remove(smallest)   # remove from the list\n",
    "        return [smallest] + recursive_selection_sort(data) # put on front of to be sorted remainder\n"
   ]
  },
  {
   "cell_type": "markdown",
   "execution_count": null,
   "metadata": {},
   "outputs": [],
   "source": [
    "## Insertion Sort\n",
    "\n",
    "Insertion sort is een ander simpel, maar inefficient sorteeralgoritme. In de eerste iteratie van dit algoritme neemt het het tweede element van de array en verwisselt dit met het eerste element als het kleiner is dan het eerste element. In de tweede iteratie bekijkt het het derde element, en plaatst dit (insert) op de juiste plek tussen de eerste twee elementen. De eerste drie elementen zijn nu gesorteerd. Dit blijft het doen tot het alle overige elementen van de array heeft bekeken en op de juiste plek heeft gezet.\n",
    "\n",
    "HieronderVoorbeeld van document twee implementaties van insertion sort in Python:"
   ]
  },
  {
   "cell_type": "code",
   "execution_count": 10,
   "metadata": {},
   "outputs": [],
   "source": [
    "def insertion_sort(data: List[int]) -> None:\n",
    "    \"\"\"Sorting an array in place using insertion sort.\"\"\"\n",
    "    # loop over len(data) - 1 elements\n",
    "    for next in range(1, len(data)):\n",
    "        insert = data[next] # value to insert\n",
    "        move_item = next    # location to place element\n",
    "\n",
    "        # search for place to put current element\n",
    "        while move_item > 0 and data[move_item - 1] > insert:\n",
    "            # shift element right one slot\n",
    "            data[move_item] = data[move_item - 1]\n",
    "            move_item -= 1\n",
    "\n",
    "        data[move_item] = insert # place inserted element\n",
    "\n",
    "def recursive_insertion_sort(toSort: List[int], sorted: List[int] = []) -> List[int]:\n",
    "    \"\"\"Recursive implementation of insertion sort\"\"\"\n",
    "    if len(toSort) == 0: # empty lists are sorted\n",
    "        return sorted\n",
    "    else:\n",
    "        head, *tail = toSort\n",
    "        sorted = recursive_insertion(head, sorted) # insert the head into the sorted list\n",
    "        return recursive_insertion_sort(tail, sorted) # recursive call to sort the remainder\n",
    "\n",
    "\n",
    "def recursive_insertion(element: int, data: List[int]) -> List[int]:\n",
    "    \"\"\"Assistant function to recursive insertion sort; recursively insert into a list\"\"\"\n",
    "    if len(data) == 0: # if the list is empty, the element should be place there anyway\n",
    "        return [element]\n",
    "    else:\n",
    "        head, *tail = data\n",
    "        if element < head: # when the element is smaller than the head of the insertion list\n",
    "            return [element, head] + tail # place it on the front\n",
    "        else:\n",
    "            return [head] + recursive_insertion(element, tail) # else, keep the head separate, and recursively insert into the tail"
   ]
  },
  {
   "cell_type": "markdown",
   "execution_count": null,
   "metadata": {},
   "outputs": [],
   "source": [
    "## Merge Sort\n",
    "Merge sort is een efficient sorteeralgoritme, maar is conceptueel complexer om te begrijpen dan selection sort of insertion sort. Het merge sort algoritme sorteert door de array te splitsen in twee (ongeveer) evengrote subarrays. Het sorteert beide subarrays, en voegt ze dan samen in één grote array. De lastigheid zit natuurlijk in het samenvoegen. Neem aan dat het algoritme twee kleiner arrays heeft gesorteerd: \n",
    "\n",
    " array1: 14  30  34  56  77<br>\n",
    " array2: 15  20  51  52  93<br>\n",
    "Merge sort combineert deze twee arrays tot één grote, gesorteerde array. Het neemt daarvoor het kleinste element van het begin van beide subarrays, en plaatst dat in de resultaat array; dit herhaalt het tot beide subarrays leeg zijn. In het bovenstaande voorbeeld, neemt het dus eerst 14 uit array1, dan 15 uit array2, dan 20 uit array2, dan 30 uit array1, etc.\n",
    "\n",
    "De recursieve implementatie van merge sort in Python vindt je hieronderVoorbeeld van document:"
   ]
  },
  {
   "cell_type": "code",
   "execution_count": 11,
   "metadata": {},
   "outputs": [],
   "source": [
    "def merge_sort(xs: List[int]) -> None:\n",
    "    \"\"\"In place merge sort of array without recursive. The basic idea\n",
    "    is to avoid the recursive call while using iterative solution.\n",
    "    The algorithm first merge chunk of length of 2, then merge chunks\n",
    "    of length 4, then 8, 16, .... , until 2^k where 2^k is large than\n",
    "    the length of the array\n",
    "    \"\"\"\n",
    "\n",
    "    unit = 1\n",
    "    while unit <= len(xs):\n",
    "        h = 0\n",
    "        for h in range(0, len(xs), unit * 2):\n",
    "            l, r = h, min(len(xs), h + 2 * unit)\n",
    "            mid = h + unit\n",
    "            # merge xs[h:h + 2 * unit]\n",
    "            p, q = l, mid\n",
    "            while p < mid and q < r:\n",
    "                # use <= for stable merge merge\n",
    "                if xs[p] <= xs[q]:\n",
    "                    p += 1\n",
    "                else:\n",
    "                    tmp = xs[q]\n",
    "                    xs[p + 1: q + 1] = xs[p:q]\n",
    "                    xs[p] = tmp\n",
    "                    p, mid, q = p + 1, mid + 1, q + 1\n",
    "\n",
    "        unit *= 2\n",
    "def merge_arrays(array1: List[int], array2: List[int]) -> List[int]:\n",
    "    \"\"\"Recursively merge two arrays into one sorted array\"\"\"\n",
    "    if len(array1) == len(array2) == 0: # done when both arrays are empty\n",
    "        return []\n",
    "    else:\n",
    "        if len(array1) == 0: # if either array is empty\n",
    "            head, *tail = array2\n",
    "            return [head] + merge_arrays(array1, tail) # merge the remainder of the non-empty list\n",
    "        elif len(array2) == 0: # idem for the other array\n",
    "            head, *tail = array1\n",
    "            return [head] + merge_arrays(tail, array2)\n",
    "        else: # when both still have elements\n",
    "            head1, *tail1 = array1\n",
    "            head2, *tail2 = array2\n",
    "            if head1 < head2: # select the smallest\n",
    "                return [head1] + merge_arrays(tail1, array2) # and merge with the remainder\n",
    "            else:\n",
    "                return [head2] + merge_arrays(array1, tail2) # idem for when array 2 had the smaller element\n",
    "\n",
    "def recursive_merge_sort(data: List[int]) -> List[int]:\n",
    "    \"\"\"Recursive merge sort implementation for sorting arrays\"\"\"\n",
    "    if len(data) == 1: # arrays with 1 element are sorted\n",
    "        return data\n",
    "    else:\n",
    "        middle = int(len(data)/2) # find the middle (round down if len(data) is odd)\n",
    "        first, second = data[:middle], data[middle:] # split the list in half\n",
    "        return merge_arrays(recursive_merge_sort(first), recursive_merge_sort(second)) # merge_sort both arrays, and merge them into the result"
   ]
  },
  {
   "cell_type": "markdown",
   "execution_count": null,
   "metadata": {},
   "outputs": [],
   "source": [
    "## Opdrachten\n",
    "1. Maak een tabel met de meetwaarden van de volgende tests (schrijf de benodigde code om deze tests uit te kunnen voeren):<br>\n",
    "- Genereer random lijsten van lengtes 1'000, 10'000 en 30'000 items. Hoe lang heeft elk algoritme nodig om deze te sorteren?<br>\n",
    "- Genereer een (gesorteerde) lijst van 30'000 items. Hoe lang heeft elk algoritme nodig om deze te sorteren?<br>\n",
    "- Draai de gesorteerde lijst van 30'000 items van de vorige vraag achterstevoren (list.reverse()). Hoe lang heeft elk algoritme nodig om deze te sorteren?<br>\n",
    "**Tip**: gebruik de iteratieve versies, want anders krijg je stack overflows!\n",
    "2. Bekijk / bepaal aan de hand van de algoritmes (en beschrijvingen) hierboven, wat de theoretische run time efficiëntie (Big O) van elk van deze  algoritmes is. Bepaal hiervoor 'best case', 'worst case' en 'average case' run time efficiëntie.\n",
    "3. Maakt het voor de complexiteit (Big O) van een algoritme uit of je een iteratieve of een recursieve versie beschouwd?"
   ]
  },
  {
   "cell_type": "code",
   "execution_count": 12,
   "metadata": {},
   "outputs": [
    {
     "name": "stdout",
     "output_type": "stream",
     "text": "Random list(n=1000)   (the timed values is the mean of 5 runs)\n  selection_sort_1000\t0.03264045715332031\n  insertion_sort_1000\t0.008969974517822266\n  merge_sort_1000\t0.0013962745666503905\n\nRandom list(n=10000)   (the timed values is the mean of 5 runs)\n  selection_sort_10000\t3.809762144088745\n  insertion_sort_10000\t1.1823412895202636\n  merge_sort_10000\t0.04939532279968262\n\nRandom list(n=30000)   (the timed values is the mean of 5 runs)\n  selection_sort_30000\t29.523608779907228\n  insertion_sort_30000\t9.514793395996094\n  merge_sort_30000\t0.3176259994506836\n\n"
    },
    {
     "data": {
      "text/html": "<div>\n<style scoped>\n    .dataframe tbody tr th:only-of-type {\n        vertical-align: middle;\n    }\n\n    .dataframe tbody tr th {\n        vertical-align: top;\n    }\n\n    .dataframe thead th {\n        text-align: right;\n    }\n</style>\n<table border=\"1\" class=\"dataframe\">\n  <thead>\n    <tr style=\"text-align: right;\">\n      <th></th>\n      <th>selection_sort</th>\n      <th>insertion_sort</th>\n      <th>merge_sort</th>\n    </tr>\n  </thead>\n  <tbody>\n    <tr>\n      <th>Random list(n=1000)</th>\n      <td>0.032640</td>\n      <td>0.008970</td>\n      <td>0.001396</td>\n    </tr>\n    <tr>\n      <th>Random list(n=10000)</th>\n      <td>3.809762</td>\n      <td>1.182341</td>\n      <td>0.049395</td>\n    </tr>\n    <tr>\n      <th>Random list(n=30000)</th>\n      <td>29.523609</td>\n      <td>9.514793</td>\n      <td>0.317626</td>\n    </tr>\n  </tbody>\n</table>\n</div>",
      "text/plain": "                      selection_sort  insertion_sort  merge_sort\nRandom list(n=1000)         0.032640        0.008970    0.001396\nRandom list(n=10000)        3.809762        1.182341    0.049395\nRandom list(n=30000)       29.523609        9.514793    0.317626"
     },
     "execution_count": 12,
     "metadata": {},
     "output_type": "execute_result"
    }
   ],
   "source": [
    "np.random.seed(seed=420)\n",
    "lst_1 = np.random.randint(low=1, high=10000, size=1000).tolist()\n",
    "lst_2 = np.random.randint(low=1, high=10000, size=10000).tolist()\n",
    "lst_3 = np.random.randint(low=1, high=10000, size=30000).tolist()\n",
    "\n",
    "def time_measurer(func,lst_, n=1): # Time measurer of sort function with ability to run it mutiple times\n",
    "    l = np.zeros(n)\n",
    "    lst = lst_.copy()\n",
    "    for i in range(n):\n",
    "        start = time.time()\n",
    "        func(lst)\n",
    "        end = time.time()\n",
    "        l[i] = end-start\n",
    "    return l.mean()\n",
    "\n",
    "def time_and_print(lst):\n",
    "    amount_of_runs = 5\n",
    "    print(f\"Random list(n={len(lst)})   (the timed values is the mean of {amount_of_runs} runs)\")\n",
    "    for func in [selection_sort,insertion_sort,merge_sort,]:\n",
    "        d[f\"{func.__name__}_{len(lst)}\"] = time_measurer(func,lst,amount_of_runs)\n",
    "        print(f\"  {func.__name__}_{len(lst)}\\t{d.get(f'{func.__name__}_{len(lst)}')}\")\n",
    "    print()\n",
    "\n",
    "d = {}\n",
    "for lst in [lst_1,lst_2,lst_3]:\n",
    "    time_and_print(lst)\n",
    "data = {\"Random list(n=1000)\":[d.get(\"selection_sort_1000\"),d.get(\"insertion_sort_1000\"),d.get(\"merge_sort_1000\")],\n",
    "        \"Random list(n=10000)\":[d.get(\"selection_sort_10000\"),d.get(\"insertion_sort_10000\"),d.get(\"merge_sort_10000\")],\n",
    "        \"Random list(n=30000)\":[d.get(\"selection_sort_30000\"),d.get(\"insertion_sort_30000\"),d.get(\"merge_sort_30000\")],}\n",
    "\n",
    "pd.DataFrame.from_dict(data, orient='index',columns=[\"selection_sort\",\"insertion_sort\",\"merge_sort\"])"
   ]
  },
  {
   "cell_type": "code",
   "execution_count": 13,
   "metadata": {},
   "outputs": [
    {
     "name": "stdout",
     "output_type": "stream",
     "text": "Random list(n=30000)   (the timed values is the mean of 5 runs)\n  selection_sort_30000\t31.938026714324952\n  insertion_sort_30000\t0.005398893356323242\n  merge_sort_30000\t0.046485185623168945\n\n"
    },
    {
     "data": {
      "text/html": "<div>\n<style scoped>\n    .dataframe tbody tr th:only-of-type {\n        vertical-align: middle;\n    }\n\n    .dataframe tbody tr th {\n        vertical-align: top;\n    }\n\n    .dataframe thead th {\n        text-align: right;\n    }\n</style>\n<table border=\"1\" class=\"dataframe\">\n  <thead>\n    <tr style=\"text-align: right;\">\n      <th></th>\n      <th>selection_sort</th>\n      <th>insertion_sort</th>\n      <th>merge_sort</th>\n    </tr>\n  </thead>\n  <tbody>\n    <tr>\n      <th>Random list(n=30000)</th>\n      <td>31.938027</td>\n      <td>0.005399</td>\n      <td>0.046485</td>\n    </tr>\n  </tbody>\n</table>\n</div>",
      "text/plain": "                      selection_sort  insertion_sort  merge_sort\nRandom list(n=30000)       31.938027        0.005399    0.046485"
     },
     "execution_count": 13,
     "metadata": {},
     "output_type": "execute_result"
    }
   ],
   "source": [
    "lst = lst_3\n",
    "merge_sort(lst)\n",
    "d = {}\n",
    "time_and_print(lst)\n",
    "data = {\"Random list(n=30000)\":[d.get(\"selection_sort_30000\"),d.get(\"insertion_sort_30000\"),d.get(\"merge_sort_30000\")],}\n",
    "pd.DataFrame.from_dict(data, orient='index',columns=[\"selection_sort\",\"insertion_sort\",\"merge_sort\"])"
   ]
  },
  {
   "cell_type": "code",
   "execution_count": 14,
   "metadata": {},
   "outputs": [
    {
     "name": "stdout",
     "output_type": "stream",
     "text": "Random list(n=30000)   (the timed values is the mean of 5 runs)\n  selection_sort_30000\t36.9526780128479\n  insertion_sort_30000\t22.71056160926819\n  merge_sort_30000\t0.7072860717773437\n\n"
    },
    {
     "data": {
      "text/html": "<div>\n<style scoped>\n    .dataframe tbody tr th:only-of-type {\n        vertical-align: middle;\n    }\n\n    .dataframe tbody tr th {\n        vertical-align: top;\n    }\n\n    .dataframe thead th {\n        text-align: right;\n    }\n</style>\n<table border=\"1\" class=\"dataframe\">\n  <thead>\n    <tr style=\"text-align: right;\">\n      <th></th>\n      <th>selection_sort</th>\n      <th>insertion_sort</th>\n      <th>merge_sort</th>\n    </tr>\n  </thead>\n  <tbody>\n    <tr>\n      <th>Random list(n=30000)</th>\n      <td>36.952678</td>\n      <td>22.710562</td>\n      <td>0.707286</td>\n    </tr>\n  </tbody>\n</table>\n</div>",
      "text/plain": "                      selection_sort  insertion_sort  merge_sort\nRandom list(n=30000)       36.952678       22.710562    0.707286"
     },
     "execution_count": 14,
     "metadata": {},
     "output_type": "execute_result"
    }
   ],
   "source": [
    "lst.reverse()\n",
    "d = {}\n",
    "time_and_print(lst)\n",
    "data = {\"Random list(n=30000)\":[d.get(\"selection_sort_30000\"),d.get(\"insertion_sort_30000\"),d.get(\"merge_sort_30000\")],}\n",
    "pd.DataFrame.from_dict(data, orient='index',columns=[\"selection_sort\",\"insertion_sort\",\"merge_sort\"])"
   ]
  },
  {
   "cell_type": "markdown",
   "execution_count": null,
   "metadata": {},
   "outputs": [],
   "source": [
    "|                        |Best Case  $\\quad$ |Average Case  $\\quad$  |Worst Case |\n",
    "|----------------------- |-------------------|-----------------------|-----------|\n",
    "|*Selection Sort:*$\\quad$|O(n^2)             |O(n^2)                 |O(n^2)     |\n",
    "|*Insertion Sort:*       |O(n)               |O(n^2)                 |O(n^2)     |\n",
    "|*Merge Sort:   *        |O(n*log(n))        |O(n*log(n))            |O(n*log(n))|\n",
    "\n",
    "*Selection Sort* & *Merge Sort*\n",
    "Geen verschil tussen best and worst case heeft dezelfde run time efficiëntie(Big O)\n",
    "\n",
    "*Insertion Sort*:\n",
    "- Best Case:    Als de array al gesorteerd is \n",
    "- Worst Case:   Als de array reversed sorted is "
   ]
  },
  {
   "cell_type": "markdown",
   "execution_count": null,
   "metadata": {},
   "outputs": [],
   "source": [
    "Voor run time efficiëntie (Big O) maakt het niet uit of je een iteratieve of een recursieve algoritme maakt. qua space complexiteit maakt het wel uit omdat je meer memory gebruikt bij recursieve."
   ]
  }
 ],
 "metadata": {
  "kernelspec": {
   "name": "python37664bitenvvenv0217c3fffa8e467088e2c35f22216b5c",
   "display_name": "Python 3.7.6 64-bit ('.env': venv)"
  }
 },
 "nbformat": 4,
 "nbformat_minor": 4
}