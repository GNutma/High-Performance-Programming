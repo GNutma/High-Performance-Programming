{
 "nbformat": 4,
 "nbformat_minor": 2,
 "metadata": {
  "language_info": {
   "name": "python",
   "codemirror_mode": {
    "name": "ipython",
    "version": 3
   },
   "version": "3.7.6-final"
  },
  "orig_nbformat": 2,
  "file_extension": ".py",
  "mimetype": "text/x-python",
  "name": "python",
  "npconvert_exporter": "python",
  "pygments_lexer": "ipython3",
  "version": 3,
  "kernelspec": {
   "name": "python37664bitenvvenv0217c3fffa8e467088e2c35f22216b5c",
   "display_name": "Python 3.7.6 64-bit ('.env': venv)"
  }
 },
 "cells": [
  {
   "cell_type": "code",
   "execution_count": 43,
   "metadata": {},
   "outputs": [
    {
     "name": "stdout",
     "output_type": "stream",
     "text": "List before sort:\n   [55, 23, 52, 53, 74, 34, 74, 93, 53, 100, 231, 42]\nList after sort:\n   [23, 34, 42, 52, 53, 53, 55, 74, 74, 93, 100, 231]\n"
    }
   ],
   "source": [
    "def bucket_sort(lst):\n",
    "    listedlist = [[],[],[],[],[],[],[],[],[],[]]\n",
    "    for i in range(len(str(max(lst)))):\n",
    "        for n in lst:\n",
    "            try:\n",
    "                listedlist[int(str(n)[-(i+1)])].append(n)\n",
    "            except IndexError:\n",
    "                listedlist[0].append(n)\n",
    "        \n",
    "        lst = []\n",
    "        for i in listedlist:\n",
    "            for j in i:\n",
    "                lst.append(j)\n",
    "        listedlist = [[],[],[],[],[],[],[],[],[],[]]\n",
    "    return lst\n",
    "\n",
    "\n",
    "lst = [55,23,52,53,74,34,74,93,53,100,231,42]\n",
    "print(\"List before sort:\\n  \",lst)\n",
    "lst = bucket_sort(lst)\n",
    "print(\"List after sort:\\n  \",lst)"
   ]
  },
  {
   "cell_type": "code",
   "execution_count": null,
   "metadata": {},
   "outputs": [],
   "source": []
  }
 ]
}