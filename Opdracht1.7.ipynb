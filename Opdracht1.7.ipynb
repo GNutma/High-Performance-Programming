{
 "nbformat": 4,
 "nbformat_minor": 2,
 "metadata": {
  "language_info": {
   "name": "python",
   "codemirror_mode": {
    "name": "ipython",
    "version": 3
   }
  },
  "orig_nbformat": 2,
  "file_extension": ".py",
  "mimetype": "text/x-python",
  "name": "python",
  "npconvert_exporter": "python",
  "pygments_lexer": "ipython3",
  "version": 3
 },
 "cells": [
  {
   "cell_type": "markdown",
   "execution_count": null,
   "metadata": {},
   "outputs": [],
   "source": [
    "# Opdracht 1.7: Bepalen Big O van diverse algoritmes\n",
    "Bepaal de Big O voor elk van de volgende algoritmen. Voor sommigen zal je eerst online moeten uitzoeken wat het algoritme precies doet:\n",
    "\n",
    "1. Het ophalen van een item in een Python list door middel van zijn index.\n",
    "\n",
    "        O(1)    er hoeft niet door de lijst heen te loepen je moet puur naar de index toe (1 handeling)\n",
    "2. Het op de juiste plek invoegen van een waarde in een gesorteerde Python lijst.\n",
    "\n",
    "        O(n)    je moet voor elk getal(na het de gekozen index) in de lijst de index veranderen.\n",
    "3. Het Shell sorteren van een array.\n",
    "\n",
    "        O(n^2)  je moet uit eindelijk door elk getal van de lijst heen en dit moet zo vaak gebeuren als dat er getallen zijn in een lijst\n",
    "4. Het Bubble sorteren van een array.\n",
    "        \n",
    "        --\n",
    "5. Het oplossen van de Torens van Hanoi voor n schijven. \n",
    "<br>$\\quad$**Hint**: voor n = 1, 2, 3, 4, 5 en 6 is het aantal operaties, respectievelijk, 1, 3, 7, 15, 31 en 63.\n",
    "\n",
    "        O(N)    N6 = 6 -> N=1 een stap per N\n",
    "6. Het vinden van alle permutaties (unieke volgordes) voor een array van n items. \n",
    "<br>$\\quad$**Hint**: voor de cijfers 1, 2 en 3 zijn er zes permutaties -- 123, 132, 213, 231, 312 en 321.\n",
    "\n",
    "        O(N*(N-1))  \n",
    "\n",
    "        voor 2 cijfers 2 permutaties 2*(2-1)=2\n",
    "        voor 3 cijfers 6 permutaties 3*(3-1)=6"
   ]
  }
 ]
}