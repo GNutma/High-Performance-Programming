{
 "nbformat": 4,
 "nbformat_minor": 2,
 "metadata": {
  "language_info": {
   "name": "python",
   "codemirror_mode": {
    "name": "ipython",
    "version": 3
   },
   "version": "3.7.6-final"
  },
  "orig_nbformat": 2,
  "file_extension": ".py",
  "mimetype": "text/x-python",
  "name": "python",
  "npconvert_exporter": "python",
  "pygments_lexer": "ipython3",
  "version": 3,
  "kernelspec": {
   "name": "python37664bitenvvenv0217c3fffa8e467088e2c35f22216b5c",
   "display_name": "Python 3.7.6 64-bit ('.env': venv)"
  }
 },
 "cells": [
  {
   "cell_type": "markdown",
   "execution_count": null,
   "metadata": {},
   "outputs": [],
   "source": [
    "# Opdracht 1.4: Ruimte-tijd\n",
    "\n",
    "In het voorgaande hebben we maar marginaal aandacht besteed aan de relatie tussen ruimte- of tijd-efficientie en de gevolgen daarvan op energiegebruik. \n",
    "\n",
    "Een manier om te meten hoeveel werk een programma/berekening kost is om te bepalen hoeveel tijd een processor op volle capaciteit (dus 100% belasting) nodig heeft om de taak te volbrengen: dit noemen we ook wel process time of cpu time.\n",
    "\n",
    "Neem aan dat een moderne programmeeropdracht (bijv. het trainen van een ML-model) 1'000 uur process time verbruikt."
   ]
  },
  {
   "cell_type": "markdown",
   "execution_count": null,
   "metadata": {},
   "outputs": [],
   "source": [
    "1. Als deze taak wordt uitgevoerd op een cluster computer die 1400 Watts (W) aan energie verbruikt, hoeveel energie verbruik je dan (in kilowatt-uur, of kWh) in totaal?\n",
    "Een rating van 40W voor een apparaat, betekend dat deze elke seconde 40 watt aan energie verbruikt; een apparaat met een verbruik van 40W, gebruikt dus ongeveer 1 kWh per dag.\n",
    "\n",
    "    E(kWh) = P(W) × t(hr) / 1000\n",
    "        40 × 24 / 1000 = 0.96 kWh\n",
    "        1400 × 24 / 1000 = 33.6 kWh\n",
    "\n",
    "    dus als een cluster computer een heledag aan zou staan zal deze computer 33.6 kWh verbruiken per dag."
   ]
  },
  {
   "cell_type": "markdown",
   "execution_count": null,
   "metadata": {},
   "outputs": [],
   "source": [
    "2. Een liter diesel bevat ongeveer 10kWh aan energie, waarvan slechts 15% wordt gebruikt om de auto daadwerkelijk voort te bewegen. Als een gemiddelde dieselauto 20 km kan rijden op 1 liter diesel, hoeveel energie is er dan nodig om 475 km te rijden, ongeveer de afstand van Utrecht naar Parijs?\n",
    "En hoe vaak zou je op-en-neer kunnen als je de energie gebruikt die benodigd is om die taak van 1'000 uur process time te berekenen? \n",
    "\n",
    "    1000 uur process time = 1400 × 1000 / 1000 = 1400 kWh \n",
    "    \n",
    "    475km / 20km = 23.75 kWh\n",
    "    23.75 kWh * 10 kWh = 237.5 kWh/Per trip Utrecht-Parijs\n",
    "    1400 / 237.5 kWh = 5.89 Tripjes van Utrecht-Parijs\n",
    "    5.89 / 2 = 2.94 Retourtjes Utrecht-Parijs\n",
    "\n",
    "    Je zou bijna 3x op-en-neer(Utrecht-Parijs) kunnen als je de energie zou gebruiken van de clustercomputer die 1'000 uur runned\n"
   ]
  },
  {
   "cell_type": "markdown",
   "execution_count": null,
   "metadata": {},
   "outputs": [],
   "source": [
    "3. Hoeveel liter diesel is er nodig om het cluster elk uur draaiend te houden? <br>\n",
    "\n",
    "        1400 × 1 / 1000 = 1.4 kWh\n",
    "        10 kWh / 1.4 kWh = 7.14\n",
    "        7.14 / 1 = 0.14 L\n",
    "\n",
    "        Om de Cluster Computer een uur te laten draaien heb je 0.14 L nodig\n"
   ]
  },
  {
   "cell_type": "markdown",
   "execution_count": null,
   "metadata": {},
   "outputs": [],
   "source": [
    "\n",
    "4. Neem aan dat je de taak efficient zou kunnen verdelen over vier processorkernen, waarmee je effectief de hoeveelheid process time kan reduceren tot één vierde (250 uur). Wat is dan de corresponderende afstand die je kan rijden met je dieselauto?\n",
    "\n",
    "        250 uur process time = 1400 × 250 / 1000 = 350 kWh\n",
    "        475km / 20km = 23.75 kWh\n",
    "        23.75 kWh * 10 kWh = 237.5 kWh/Per trip Utrecht-Parijs\n",
    "        350 / 237.5 kWh = 1.47\n",
    "\n",
    "        je zou ongeveer 1.5x op-en-neer(Utrecht-Parijs) kunnen als je de energie zou gebruiken van de clustercomputer die 250 uur runned"
   ]
  }
 ]
}