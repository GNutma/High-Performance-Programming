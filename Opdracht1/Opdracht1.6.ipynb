{
 "nbformat": 4,
 "nbformat_minor": 2,
 "metadata": {
  "language_info": {
   "name": "python",
   "codemirror_mode": {
    "name": "ipython",
    "version": 3
   },
   "version": "3.7.6-final"
  },
  "orig_nbformat": 2,
  "file_extension": ".py",
  "mimetype": "text/x-python",
  "name": "python",
  "npconvert_exporter": "python",
  "pygments_lexer": "ipython3",
  "version": 3,
  "kernelspec": {
   "name": "python37664bitenvvenv0217c3fffa8e467088e2c35f22216b5c",
   "display_name": "Python 3.7.6 64-bit ('.env': venv)"
  }
 },
 "cells": [
  {
   "cell_type": "markdown",
   "execution_count": null,
   "metadata": {},
   "outputs": [],
   "source": [
    "# Opdracht 1.6: Quick Sort\n",
    "De recursieve sorteermethode genaamd Quick Sort is gebruikt de volgende stappen voor het sorteren van een een-dimensionale array van getallen:\n",
    "\n",
    "1. *Partitioning Step*: neem het eerste element (pivot) van de ongesorteerde array en bepaal zijn positie in de uiteindelijke gesorteerde array (d.w.z., maak een lijst van alle getallen die kleiner zijn dan de pivot, en eentje met getallen die groter zijn). Je hebt nu 1 element op de juiste positie, en twee ongesorteerde subarrays.\n",
    "2. *Recursive Step*: herhaal de *Partioning Step* op elke van de ongesorteerde subarrays. Elke keer als een partitioning wordt uitgevoerd, wordt er weer een element op zijn uiteindelijke plaats gezet, en worden er twee ongesorteerde subarrays gecreëerd. Zodra de subarrays slechts één element bevatten, staat dat element op de juiste plek (aangezien een array met één element gesorteerd is).\n",
    "### Opdracht\n",
    "1. Schrijf een implementatie van het Quick Sort algoritme.\n",
    "2. Bepaal, net als eerder, met een test en met een analyse, de Big O waarde van het Quick Sort algoritme."
   ]
  },
  {
   "cell_type": "code",
   "execution_count": 1,
   "metadata": {},
   "outputs": [
    {
     "name": "stdout",
     "output_type": "stream",
     "text": "[[[3, 8], 23, [42, 52]], 55, [100, [231, 5123]]]\n"
    }
   ],
   "source": [
    "def quick_sort(lst):\n",
    "    pivot = lst.pop(0)\n",
    "    lst_min = []\n",
    "    lst_max = []\n",
    "    while len(lst) > 0:\n",
    "        if lst[0] <= pivot:\n",
    "            lst_min.append(lst.pop(0))\n",
    "        else:\n",
    "            lst_max.append(lst.pop(0))\n",
    "\n",
    "    if len(lst_min) == 1:\n",
    "        lst.append(lst_min[0])\n",
    "    elif len(lst_min) > 1:\n",
    "        quick_sort(lst_min)\n",
    "        lst.append(lst_min)\n",
    "\n",
    "    lst.append(pivot)\n",
    "\n",
    "    if len(lst_max) == 1:\n",
    "        lst.append(lst_max[0])\n",
    "    elif len(lst_max) > 1:\n",
    "        quick_sort(lst_max)\n",
    "        lst.append(lst_max)\n",
    "        \n",
    "lst = [55,23,52,3,8,100,231,42,5123]\n",
    "quick_sort(lst)\n",
    "print(lst)"
   ]
  },
  {
   "cell_type": "markdown",
   "execution_count": null,
   "metadata": {},
   "outputs": [],
   "source": [
    "Zo te zien is mijn implementatie niet perfect. want er de sub-arrays zijn nog aanwezig. :'(<br>\n",
    "ik heb geen methode gevonden hoe ik dit kon fixen binnen de quickSort function. heb wel een nog een function gemaakt genaamd unpack die dit wel kan."
   ]
  },
  {
   "cell_type": "code",
   "execution_count": 2,
   "metadata": {},
   "outputs": [
    {
     "name": "stdout",
     "output_type": "stream",
     "text": "[3, 8, 23, 42, 52, 55, 100, 231, 5123]\n"
    }
   ],
   "source": [
    "def unpack(lst):\n",
    "    for i in lst:\n",
    "        if type(i) == list:\n",
    "            unpack(i)\n",
    "        else:\n",
    "            lst_.append(i)\n",
    "        \n",
    "lst_ = []\n",
    "unpack(lst)\n",
    "print(lst_)"
   ]
  },
  {
   "cell_type": "markdown",
   "execution_count": null,
   "metadata": {},
   "outputs": [],
   "source": [
    "Omdat volgens mij het niet de bedoeling is dat er een unpack functie bestaat zal ik dat tijdens het timen niet gebruiken.\n"
   ]
  },
  {
   "cell_type": "code",
   "execution_count": 3,
   "metadata": {},
   "outputs": [
    {
     "name": "stdout",
     "output_type": "stream",
     "text": "Results with buckets_sort\n  Random list (n=1000)\t\t0.00379\n  Random list (n=10000)\t\t0.073034\n  Random list (n=30000)\t\t0.436541\n"
    }
   ],
   "source": [
    "from Time_Function import sort_timer\n",
    "sort_timer(quick_sort)"
   ]
  },
  {
   "cell_type": "markdown",
   "execution_count": null,
   "metadata": {},
   "outputs": [],
   "source": [
    "|                         |selection_sort $\\quad$ |insertion_sort $\\quad$ |merge_sort $\\quad$ |bucket_sort $\\quad$ |quick_sort  |\n",
    "|-------------------------|-----------------------|-----------------------|-------------------|--------------------|------------|\n",
    "Random list(n=1000)$\\quad$|0.032640\t              |0.008970\t              |0.001396           |0.006382            |0.004768    |\n",
    "Random list(n=10000)      |3.809762               |1.182341\t              |0.049395           |0.076051            |0.076952    |\n",
    "Random list(n=30000)      |29.523609\t          |9.514793\t              |0.317626           |0.44755             |0.400688    |\n",
    "\n",
    "quick_sort is zo te zien een snelle sort methode(zoals je wel van de naam alleen al mag verwachten) waarbij de tijden vrij gelijk zijn met bucket_sort\n",
    "\n",
    "\n"
   ]
  },
  {
   "cell_type": "markdown",
   "execution_count": null,
   "metadata": {},
   "outputs": [],
   "source": [
    "## Big O *Analyse*\n",
    "\n",
    "        def quick_sort(lst):\n",
    "            pivot = lst.pop(0)\n",
    "            lst_min = []\n",
    "            lst_max = []\n",
    "            while len(lst) > 0:                     N-1   Gaat door alle getallen van de lijst heen behalve 1(de pivot)\n",
    "                if lst[0] <= pivot:\n",
    "                    lst_min.append(lst.pop(0))\n",
    "                else:\n",
    "                    lst_max.append(lst.pop(0))\n",
    "\n",
    "            if len(lst_min) == 1:\n",
    "                lst.append(lst_min[0])\n",
    "            elif len(lst_min) > 1:\n",
    "                quick_sort(lst_min)                 Herhaald quick_sort\n",
    "                lst.append(lst_min)\n",
    "\n",
    "            lst.append(pivot)\n",
    "            \n",
    "            if len(lst_max) == 1:\n",
    "                lst.append(lst_max[0])\n",
    "            elif len(lst_max) > 1:\n",
    "                quick_sort(lst_max)                 Herhaald quick_sort\n",
    "                lst.append(lst_max)\n",
    "            \n",
    "best case\n",
    "\n",
    "        voorbeeld   [44,22,66,33,55]                N-1 log(N-1) ~= N log(N)\n",
    "                    [22,33]\n",
    "                    [66,55]\n",
    "        result      [22,33,44,55,66]\n",
    "    \n",
    "Worst case\n",
    "\n",
    "        voorbeeld   [1,2,3,4,5,6,7]                 N-1*N-1  ~= N^2\n",
    "                    [2,3,4,5,6,7] \n",
    "                    [3,4,5,6,7] \n",
    "                    [4,5,6,7] \n",
    "                    [5,6,7]\n",
    "                    [6,7]\n",
    "        result      [1,[2,[3,[4,[5,[6,7]]]]]]\n",
    "\n",
    "            \n",
    "    "
   ]
  }
 ]
}