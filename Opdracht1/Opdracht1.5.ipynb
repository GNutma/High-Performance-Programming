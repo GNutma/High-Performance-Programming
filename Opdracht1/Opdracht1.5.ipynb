{
 "nbformat": 4,
 "nbformat_minor": 2,
 "metadata": {
  "language_info": {
   "name": "python",
   "codemirror_mode": {
    "name": "ipython",
    "version": 3
   },
   "version": "3.7.6-final"
  },
  "orig_nbformat": 2,
  "file_extension": ".py",
  "mimetype": "text/x-python",
  "name": "python",
  "npconvert_exporter": "python",
  "pygments_lexer": "ipython3",
  "version": 3,
  "kernelspec": {
   "name": "python37664bitenvvenv0217c3fffa8e467088e2c35f22216b5c",
   "display_name": "Python 3.7.6 64-bit ('.env': venv)"
  }
 },
 "cells": [
  {
   "cell_type": "code",
   "execution_count": 1,
   "metadata": {},
   "outputs": [
    {
     "name": "stdout",
     "output_type": "stream",
     "text": "List before sort:\n   [55, 23, 52, 53, 8, 24512, 74, 34, 74, 3, 93, 53, 100, 231, 42, 5123]\nList after sort:\n   [3, 8, 23, 34, 42, 52, 53, 53, 55, 74, 74, 93, 100, 231, 5123, 24512]\n"
    }
   ],
   "source": [
    "def bucket_sort(lst):\n",
    "    listedlist = [[],[],[],[],[],[],[],[],[],[]]\n",
    "    for i in range(len(str(max(lst)))):\n",
    "        i += 1\n",
    "        while len(lst) != 0:\n",
    "            if i > len(str(lst[0])): \n",
    "                listedlist[0].append(lst.pop(0))\n",
    "            else: \n",
    "                listedlist[int(str(lst[0])[-i])].append(lst.pop(0))\n",
    "        for l in listedlist:\n",
    "            while len(l) != 0:\n",
    "                lst.append(l.pop(0))\n",
    "\n",
    "lst = [55,23,52,53,8,24512,74,34,74,3,93,53,100,231,42,5123]\n",
    "print(\"List before sort:\\n  \",lst)\n",
    "bucket_sort(lst)\n",
    "print(\"List after sort:\\n  \",lst)"
   ]
  },
  {
   "cell_type": "code",
   "execution_count": 2,
   "metadata": {},
   "outputs": [
    {
     "name": "stdout",
     "output_type": "stream",
     "text": "Results with buckets_sort\n  Random list (n=1000)\t\t0.005783\n  Random list (n=10000)\t\t0.085981\n  Random list (n=30000)\t\t0.490565\n"
    }
   ],
   "source": [
    "from Time_Function import sort_timer\n",
    "sort_timer(bucket_sort)"
   ]
  },
  {
   "cell_type": "markdown",
   "execution_count": null,
   "metadata": {},
   "outputs": [],
   "source": [
    "#### Results Opdracht 1.1\n",
    "\n",
    "|                         |selection_sort $\\quad$ |insertion_sort $\\quad$ |merge_sort|\n",
    "|-------------------------|-----------------------|-----------------------|----------|\n",
    "Random list(n=1000)$\\quad$|0.032640\t              |0.008970\t              |0.001396  |\n",
    "Random list(n=10000)      |3.809762               |1.182341\t              |0.049395  |\n",
    "Random list(n=30000)      |29.523609\t          |9.514793\t              |0.317626  |\n",
    "\n",
    "#### With the new bucket_sort \n",
    "\n",
    "|                         |selection_sort $\\quad$ |insertion_sort $\\quad$ |merge_sort $\\quad$ |bucket_sort|\n",
    "|-------------------------|-----------------------|-----------------------|-------------------|-----------|\n",
    "Random list(n=1000)$\\quad$|0.032640\t              |0.008970\t              |0.001396           |0.006382   |\n",
    "Random list(n=10000)      |3.809762               |1.182341\t              |0.049395           |0.076051   |\n",
    "Random list(n=30000)      |29.523609\t          |9.514793\t              |0.317626           |0.498562   |\n",
    "\n",
    "Compared to the previously sort functions this sort function is al lot quicker\n"
   ]
  },
  {
   "cell_type": "markdown",
   "execution_count": null,
   "metadata": {},
   "outputs": [],
   "source": [
    "## Big O *Analyse*\n",
    "\n",
    "    def bucket_sort(lst):\n",
    "        listedlist = [[],[],[],[],[],[],[],[],[],[]]                    \n",
    "        for i in range(len(str(max(lst)))):                             len(max(N)) (Herhaald het proces zovaak als de maximale aantal digits)\n",
    "            i += 1                                                                                     (bijv. 1 = 1x, 10 = 2x, 100 = 3x, etc.)\n",
    "            while len(lst) != 0:                                        N           (Gaat door elk getal van de lijst)\n",
    "                if i > len(str(lst[0])): \n",
    "                    listedlist[0].append(lst.pop(0))\n",
    "                else: \n",
    "                    listedlist[int(str(lst[0])[-i])].append(lst.pop(0))\n",
    "            for l in listedlist:                                        10          (voor het aantal lijsten in listedlist dus 10)\n",
    "                while len(l) != 0:                                      N           (Gaat door elk getal van de lijst)\n",
    "                    lst.append(l.pop(0))\n",
    "\n",
    "Big O = len(max(N))*(N+(10*N))<br>\n",
    "Big 0 = len(max(N))*(N+N) 10* is op grote schaal overbodig<br>\n",
    "Big 0 = len(max(N))*2N  simplify\n",
    "\n",
    "Best case scenario is wanneer de range van de lijst beperkt is tot het minimum (range 0-9) dan zal de run time efficiëntie beperkt worden naar alleen maar O(2N)\n",
    "\n",
    "Worst case scenario is wanneer de range van de lijst belagelijk groot is waardoor de run time efficiëntie gelijk zal zijn aan O(len(max(N))*2N)\n",
    "\n"
   ]
  }
 ]
}