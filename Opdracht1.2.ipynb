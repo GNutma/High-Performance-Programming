{
 "nbformat": 4,
 "nbformat_minor": 2,
 "metadata": {
  "language_info": {
   "name": "python",
   "codemirror_mode": {
    "name": "ipython",
    "version": 3
   }
  },
  "orig_nbformat": 2,
  "file_extension": ".py",
  "mimetype": "text/x-python",
  "name": "python",
  "npconvert_exporter": "python",
  "pygments_lexer": "ipython3",
  "version": 3
 },
 "cells": [
  {
   "cell_type": "markdown",
   "execution_count": null,
   "metadata": {},
   "outputs": [],
   "source": [
    "# Opdracht 1.2: Memoization\n",
    "Beschouw de volgende versie van de Fibonacci functie, gebruik makend van memoization:"
   ]
  },
  {
   "cell_type": "code",
   "execution_count": null,
   "metadata": {},
   "outputs": [],
   "source": [
    "#variable for memoization\n",
    "declare table\n",
    "\n",
    "Function Fib-memo(n)\n",
    "{\n",
    "    if (entry for n exists in table) { return entry; }\n",
    "    elseif (n == 0) return 0;\n",
    "    elseif (n == 1) return 1;\n",
    "    else\n",
    "    {\n",
    "      f = Fib-memo(n-2) * Fib-memo(n-1);\n",
    "      store [n, f] in table;\n",
    "      return f;\n",
    "    }\n",
    "}"
   ]
  },
  {
   "cell_type": "markdown",
   "execution_count": null,
   "metadata": {},
   "outputs": [],
   "source": [
    "1. Herinner (uit de video (Koppelingen naar een externe site.)) dat Fib-memo 15 functieaanroepen en 8Mb aan ruimte gebruikt voor n=8. Teken de bijbehorende functieaanroep boom voor Fib-memo met n=9. Hoeveel functieaanroepen worden er uitgevoerd? Hoeveel ruimte wordt er gebruikt?\n",
    "2. Maak gebruik van pseudocode, of welke programmeertaal je prettig vindt; schrijf de code voor een iteratieve versie van Fibonacci.\n",
    "3. Hoeveel functieaanroepen en hoeveel ruimte verbruikt de iteratieve versie van Fibonacci?\n"
   ]
  }
 ]
}